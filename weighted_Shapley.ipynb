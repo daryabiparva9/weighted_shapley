{
 "cells": [
  {
   "cell_type": "code",
   "execution_count": 1,
   "metadata": {},
   "outputs": [],
   "source": [
    "import sys\n",
    "import time\n",
    "\n",
    "import pandas as pd\n",
    "import numpy as np\n",
    "from itertools import combinations\n",
    "from feature_combinations import feature_combinations, feature_matrix, weight_matrix\n",
    "from prepare_data_causal import prepare_data_causal\n",
    "from shap import Explanation\n",
    "import sys\n",
    "import torch\n",
    "import math\n",
    "import random\n",
    "from sklearn.linear_model import LinearRegression\n",
    "import numpy as np\n",
    "import pandas as pd\n",
    "import math\n",
    "import xgboost\n",
    "from explainer import Explainer\n",
    "import shap\n",
    "import time\n",
    "import itertools\n"
   ]
  },
  {
   "cell_type": "code",
   "execution_count": 20,
   "metadata": {},
   "outputs": [],
   "source": [
    "import sys\n",
    "import time\n",
    "\n",
    "import pandas as pd\n",
    "import numpy as np\n",
    "from itertools import combinations\n",
    "from feature_combinations import feature_combinations, feature_matrix, weight_matrix\n",
    "from prepare_data_causal import prepare_data_causal\n",
    "from shap import Explanation\n",
    "import sys\n",
    "import torch\n",
    "import math\n",
    "import random\n",
    "from sklearn.linear_model import LinearRegression\n",
    "import numpy as np\n",
    "import pandas as pd\n",
    "import math\n",
    "import xgboost\n",
    "from explainer import Explainer\n",
    "import shap\n",
    "import time\n",
    "import itertools\n",
    "\n",
    "            "
   ]
  },
  {
   "cell_type": "code",
   "execution_count": 2,
   "metadata": {},
   "outputs": [
    {
     "name": "stdout",
     "output_type": "stream",
     "text": [
      "         x1        x2        x3        x4        x5\n",
      "0  0.804599  0.819956 -0.418250 -1.182054 -0.085647\n",
      "1 -0.648193 -0.659140 -0.738131  0.584587  0.659454\n",
      "2  0.210822  0.205509 -1.479721 -1.453913 -1.337573\n",
      "3 -1.240363 -1.220527 -0.291561 -0.400585 -0.152008\n",
      "4 -0.496598 -0.501735  0.011108  0.789183  0.886024\n"
     ]
    }
   ],
   "source": [
    "x1 =np.random.normal(0, 1, size=(10000, 1)) \n",
    "x2 = 0.01 *np.random.normal(0, 1, size=(10000, 1)) + 0.99995*x1\n",
    "x3 = np.random.normal(0, 1, size=(10000, 1))\n",
    "x6 = 0.3 * np.random.normal(0, 1, size=(10000, 1))  + 0.57 * x2 + 0.57 *x3\n",
    "x4 = np.random.normal(0, 1, size=(10000, 1)) \n",
    "x5 = 0.57 * np.random.normal(0, 1, size=(10000, 1))  + 0.57 * x6 + 0.57 *x4\n",
    "arr = np.hstack((x1, x2, x3, x4, x5, x6))\n",
    "pd_data = pd.DataFrame(arr, columns=[\"x1\", \"x2\", \"x3\", \"x4\", \"x5\", \"x6\"])\n",
    "X = pd_data[[\"x1\", \"x2\", \"x3\", \"x4\", \"x5\"]]\n",
    "y = pd_data[\"x6\"]\n",
    "print(X.head())"
   ]
  },
  {
   "cell_type": "code",
   "execution_count": 25,
   "metadata": {},
   "outputs": [
    {
     "name": "stdout",
     "output_type": "stream",
     "text": [
      "[-0.28708587  0.81071076  0.52983483 -0.07763017  0.1422382 ]\n"
     ]
    }
   ],
   "source": [
    "lr = LinearRegression()\n",
    "lr.fit(X, y)\n",
    "w = lr.coef_[0]\n",
    "print(lr.coef_)"
   ]
  },
  {
   "cell_type": "code",
   "execution_count": 5,
   "metadata": {},
   "outputs": [
    {
     "name": "stdout",
     "output_type": "stream",
     "text": [
      "y is 0.2662168722510729, x1 is 0.33263261660314675, x2 is 0.33033508372566994, x3 is -0.8332229092005881\n"
     ]
    }
   ],
   "source": [
    "print(f'y is {y[0]}, x1 is {X[\"x1\"][0]}, x2 is {X[\"x2\"][0]}, x3 is {X[\"x3\"][0]}')"
   ]
  },
  {
   "cell_type": "code",
   "execution_count": 10,
   "metadata": {},
   "outputs": [
    {
     "data": {
      "image/png": "[encoded data removed]",
      "text/plain": [
       "<Figure size 800x300 with 3 Axes>"
      ]
     },
     "metadata": {},
     "output_type": "display_data"
    }
   ],
   "source": [
    "shap.waterfall_plot(a)"
   ]
  },
  {
   "cell_type": "code",
   "execution_count": 13,
   "metadata": {},
   "outputs": [
    {
     "ename": "TypeError",
     "evalue": "frozenset expected at most 1 argument, got 2",
     "output_type": "error",
     "traceback": [
      "\u001b[0;31m---------------------------------------------------------------------------\u001b[0m",
      "\u001b[0;31mTypeError\u001b[0m                                 Traceback (most recent call last)",
      "Cell \u001b[0;32mIn[13], line 2\u001b[0m\n\u001b[1;32m      1\u001b[0m sparsest \u001b[39m=\u001b[39m [(\u001b[39m'\u001b[39m\u001b[39mx2\u001b[39m\u001b[39m'\u001b[39m, \u001b[39m'\u001b[39m\u001b[39mx3\u001b[39m\u001b[39m'\u001b[39m, \u001b[39m'\u001b[39m\u001b[39mx1\u001b[39m\u001b[39m'\u001b[39m), (\u001b[39m'\u001b[39m\u001b[39mx3\u001b[39m\u001b[39m'\u001b[39m, \u001b[39m'\u001b[39m\u001b[39mx2\u001b[39m\u001b[39m'\u001b[39m, \u001b[39m'\u001b[39m\u001b[39mx1\u001b[39m\u001b[39m'\u001b[39m), (\u001b[39m'\u001b[39m\u001b[39mx2\u001b[39m\u001b[39m'\u001b[39m, \u001b[39m'\u001b[39m\u001b[39mx1\u001b[39m\u001b[39m'\u001b[39m, \u001b[39m'\u001b[39m\u001b[39mx3\u001b[39m\u001b[39m'\u001b[39m)]\n\u001b[0;32m----> 2\u001b[0m oracle \u001b[39m=\u001b[39m {\u001b[39mfrozenset\u001b[39;49m(\u001b[39m'\u001b[39;49m\u001b[39mx1\u001b[39;49m\u001b[39m'\u001b[39;49m, \u001b[39m'\u001b[39;49m\u001b[39mx2\u001b[39;49m\u001b[39m'\u001b[39;49m): \u001b[39mset\u001b[39m(), \n\u001b[1;32m      3\u001b[0m           \u001b[39mfrozenset\u001b[39m(\u001b[39m'\u001b[39m\u001b[39mx1\u001b[39m\u001b[39m'\u001b[39m, \u001b[39m'\u001b[39m\u001b[39mx3\u001b[39m\u001b[39m'\u001b[39m): {\u001b[39mfrozenset\u001b[39m(), \u001b[39mfrozenset\u001b[39m(\u001b[39m'\u001b[39m\u001b[39mx2\u001b[39m\u001b[39m'\u001b[39m)},\n\u001b[1;32m      4\u001b[0m           \u001b[39mfrozenset\u001b[39m(\u001b[39m'\u001b[39m\u001b[39mx2\u001b[39m\u001b[39m'\u001b[39m, \u001b[39m'\u001b[39m\u001b[39mx3\u001b[39m\u001b[39m'\u001b[39m): {\u001b[39mfrozenset\u001b[39m(), \u001b[39mfrozenset\u001b[39m(\u001b[39m'\u001b[39m\u001b[39mx1\u001b[39m\u001b[39m'\u001b[39m)},\n\u001b[1;32m      5\u001b[0m           }\n\u001b[1;32m      6\u001b[0m a \u001b[39m=\u001b[39m sh\u001b[39m.\u001b[39mfind_shapley(X\u001b[39m.\u001b[39miloc[\u001b[39m0\u001b[39m], explanation_type\u001b[39m=\u001b[39m\u001b[39m\"\u001b[39m\u001b[39msparset\u001b[39m\u001b[39m\"\u001b[39m, spasest_oracle\u001b[39m=\u001b[39msparsest)\n\u001b[1;32m      7\u001b[0m \u001b[39mprint\u001b[39m(\u001b[39mf\u001b[39m\u001b[39m'\u001b[39m\u001b[39msparsest shapley is \u001b[39m\u001b[39m\\n\u001b[39;00m\u001b[39m{\u001b[39;00ma\u001b[39m}\u001b[39;00m\u001b[39m'\u001b[39m)\n",
      "\u001b[0;31mTypeError\u001b[0m: frozenset expected at most 1 argument, got 2"
     ]
    }
   ],
   "source": [
    "sparsest = [('x2', 'x3', 'x1'), ('x3', 'x2', 'x1'), ('x2', 'x1', 'x3')]\n",
    "\n",
    "a = sh.find_shapley(X.iloc[0], explanation_type=\"sparset\", spasest_oracle=sparsest)\n",
    "print(f'sparsest shapley is \\n{a}')\n",
    "mb = [('x2', 'x3', 'x1'), ('x3', 'x2', 'x1')]\n",
    "a = sh.find_shapley(X.iloc[0], explanation_type=\"markov blanket\", markov_blanket_oracle=mb)\n",
    "print(f'mb shapley is \\n{a}')\n",
    "ancestor = [('x2', 'x3', 'x1'), ('x3', 'x2', 'x1'), ('x2', 'x1', 'x3'), ('x1', 'x2', 'x3'), ('x1', 'x3', 'x2'), ('x3', 'x1', 'x2'),('x2', 'x3', 'x1'), ('x3', 'x2', 'x1')]\n",
    "a = sh.find_shapley(X.iloc[0], explanation_type=\"ancestor\", ancestor_oracle=ancestor)\n",
    "print(f'ancestor shapley is \\n{a}')"
   ]
  },
  {
   "cell_type": "code",
   "execution_count": 14,
   "metadata": {},
   "outputs": [
    {
     "name": "stdout",
     "output_type": "stream",
     "text": [
      "type of phi_i is <class 'pandas.core.series.Series'>\n",
      "feture names are ['x1', 'x2', 'x3'] and parentchild is ['x2', 'x3']\n",
      "['x1']\n",
      " permutations are [('x2', 'x3', 'x1'), ('x3', 'x2', 'x1')]\n",
      "phi is   x1                     x2                      x3\n",
      "0  0  [0.18838908430745124]   [-0.4652744135427961]\n",
      "1  0   [0.1805053724009667]  [-0.45739070163631135]\n",
      "type of phi_i is <class 'pandas.core.series.Series'>\n",
      "sparsest shapley is \n",
      "x1    0.000000\n",
      "x2    0.184447\n",
      "x3   -0.461333\n",
      "dtype: float64\n"
     ]
    },
    {
     "name": "stderr",
     "output_type": "stream",
     "text": [
      "X does not have valid feature names, but LinearRegression was fitted with feature names\n",
      "X does not have valid feature names, but LinearRegression was fitted with feature names\n",
      "X does not have valid feature names, but LinearRegression was fitted with feature names\n",
      "X does not have valid feature names, but LinearRegression was fitted with feature names\n",
      "X does not have valid feature names, but LinearRegression was fitted with feature names\n",
      "X does not have valid feature names, but LinearRegression was fitted with feature names\n",
      "X does not have valid feature names, but LinearRegression was fitted with feature names\n",
      "X does not have valid feature names, but LinearRegression was fitted with feature names\n",
      "X does not have valid feature names, but LinearRegression was fitted with feature names\n",
      "X does not have valid feature names, but LinearRegression was fitted with feature names\n",
      "X does not have valid feature names, but LinearRegression was fitted with feature names\n",
      "X does not have valid feature names, but LinearRegression was fitted with feature names\n",
      "X does not have valid feature names, but LinearRegression was fitted with feature names\n",
      "X does not have valid feature names, but LinearRegression was fitted with feature names\n",
      "X does not have valid feature names, but LinearRegression was fitted with feature names\n",
      "X does not have valid feature names, but LinearRegression was fitted with feature names\n",
      "X does not have valid feature names, but LinearRegression was fitted with feature names\n",
      "X does not have valid feature names, but LinearRegression was fitted with feature names\n",
      "X does not have valid feature names, but LinearRegression was fitted with feature names\n"
     ]
    }
   ],
   "source": [
    "oracle = {'x1': {frozenset({'x2'}), frozenset({'x2', 'x3'})}, \n",
    "           'x3': set(),\n",
    "          'x2': set(),\n",
    "          }\n",
    "\n",
    "sh = Weighted_Shapley(X, y, lr, 3)\n",
    "a = sh.find_shapley(X.iloc[0], explanation_type=\"markov blanket\", sparsest_oracle=oracle)\n",
    "print(f'sparsest shapley is \\n{a}')\n"
   ]
  },
  {
   "cell_type": "code",
   "execution_count": 9,
   "metadata": {},
   "outputs": [
    {
     "name": "stdout",
     "output_type": "stream",
     "text": [
      "[('x2', 'x3'), ('x3', 'x2')]\n",
      "item1 is ('x2', 'x3'), item2 is ('x1', 'x4')\n",
      "('x2', 'x3', 'x1', 'x4')\n",
      "item1 is ('x2', 'x3'), item2 is ('x4', 'x1')\n",
      "('x2', 'x3', 'x4', 'x1')\n",
      "item1 is ('x3', 'x2'), item2 is ('x1', 'x4')\n",
      "('x3', 'x2', 'x1', 'x4')\n",
      "item1 is ('x3', 'x2'), item2 is ('x4', 'x1')\n",
      "('x3', 'x2', 'x4', 'x1')\n",
      "[(('x2', 'x3'), ('x1', 'x4')), (('x3', 'x2'), ('x4', 'x1'))]\n"
     ]
    },
    {
     "ename": "TypeError",
     "evalue": "unsupported operand type(s) for -: 'list' and 'list'",
     "output_type": "error",
     "traceback": [
      "\u001b[0;31m---------------------------------------------------------------------------\u001b[0m",
      "\u001b[0;31mTypeError\u001b[0m                                 Traceback (most recent call last)",
      "Cell \u001b[0;32mIn[9], line 12\u001b[0m\n\u001b[1;32m     10\u001b[0m f \u001b[39m=\u001b[39m[\u001b[39m'\u001b[39m\u001b[39mx1\u001b[39m\u001b[39m'\u001b[39m, \u001b[39m'\u001b[39m\u001b[39mx2\u001b[39m\u001b[39m'\u001b[39m, \u001b[39m'\u001b[39m\u001b[39mx3\u001b[39m\u001b[39m'\u001b[39m]\n\u001b[1;32m     11\u001b[0m t \u001b[39m=\u001b[39m [\u001b[39m'\u001b[39m\u001b[39mx2\u001b[39m\u001b[39m'\u001b[39m, \u001b[39m'\u001b[39m\u001b[39mx3\u001b[39m\u001b[39m'\u001b[39m]\n\u001b[0;32m---> 12\u001b[0m f \u001b[39m-\u001b[39;49m t\n",
      "\u001b[0;31mTypeError\u001b[0m: unsupported operand type(s) for -: 'list' and 'list'"
     ]
    }
   ],
   "source": [
    "perms1 = list(itertools.permutations(['x2', 'x3']))\n",
    "perms2 = list(itertools.permutations([ 'x1', 'x4']))\n",
    "print(perms1)\n",
    "from itertools import zip_longest\n",
    "for item1 in perms1:\n",
    "    for item2 in perms2:\n",
    "        print(f'item1 is {item1}, item2 is {item2}')\n",
    "        print(item1+item2)\n",
    "print(list(zip_longest(perms1, perms2)))\n",
    "f =['x1', 'x2', 'x3']\n",
    "t = ['x2', 'x3']\n",
    "f - t"
   ]
  },
  {
   "cell_type": "code",
   "execution_count": 12,
   "metadata": {},
   "outputs": [
    {
     "data": {
      "text/plain": [
       "Index(['x2', 'x3'], dtype='object')"
      ]
     },
     "execution_count": 12,
     "metadata": {},
     "output_type": "execute_result"
    }
   ],
   "source": [
    "b =(a != 0)\n",
    "b.index[b]"
   ]
  },
  {
   "cell_type": "code",
   "execution_count": 15,
   "metadata": {},
   "outputs": [
    {
     "data": {
      "text/plain": [
       "{frozenset(), frozenset({'x1'})}"
      ]
     },
     "execution_count": 15,
     "metadata": {},
     "output_type": "execute_result"
    }
   ],
   "source": [
    "oracle[frozenset({'x3', 'x2'})]"
   ]
  },
  {
   "cell_type": "code",
   "execution_count": 18,
   "metadata": {},
   "outputs": [],
   "source": [
    "if not oracle[frozenset({'x1', 'x3'})]:\n",
    "    print(\"false\")"
   ]
  },
  {
   "cell_type": "code",
   "execution_count": 61,
   "metadata": {},
   "outputs": [
    {
     "name": "stderr",
     "output_type": "stream",
     "text": [
      "X does not have valid feature names, but LinearRegression was fitted with feature names\n"
     ]
    },
    {
     "data": {
      "text/plain": [
       "array([0.02430999])"
      ]
     },
     "execution_count": 61,
     "metadata": {},
     "output_type": "execute_result"
    }
   ],
   "source": [
    "lr = LinearRegression()\n",
    "subset = ['x1']\n",
    "lr.fit(X[subset], y)\n",
    "data_point = X.iloc[0]\n",
    "expected_value = lr.predict([data_point[subset]])\n",
    "expected_value"
   ]
  },
  {
   "cell_type": "code",
   "execution_count": 45,
   "metadata": {},
   "outputs": [
    {
     "data": {
      "text/html": [
       "<div>\n",
       "<style scoped>\n",
       "    .dataframe tbody tr th:only-of-type {\n",
       "        vertical-align: middle;\n",
       "    }\n",
       "\n",
       "    .dataframe tbody tr th {\n",
       "        vertical-align: top;\n",
       "    }\n",
       "\n",
       "    .dataframe thead th {\n",
       "        text-align: right;\n",
       "    }\n",
       "</style>\n",
       "<table border=\"1\" class=\"dataframe\">\n",
       "  <thead>\n",
       "    <tr style=\"text-align: right;\">\n",
       "      <th></th>\n",
       "      <th>x1</th>\n",
       "      <th>x2</th>\n",
       "    </tr>\n",
       "  </thead>\n",
       "  <tbody>\n",
       "    <tr>\n",
       "      <th>0</th>\n",
       "      <td>0.077207</td>\n",
       "      <td>0.306002</td>\n",
       "    </tr>\n",
       "    <tr>\n",
       "      <th>1</th>\n",
       "      <td>-0.335570</td>\n",
       "      <td>-0.316709</td>\n",
       "    </tr>\n",
       "    <tr>\n",
       "      <th>2</th>\n",
       "      <td>0.135244</td>\n",
       "      <td>0.241697</td>\n",
       "    </tr>\n",
       "    <tr>\n",
       "      <th>3</th>\n",
       "      <td>0.183566</td>\n",
       "      <td>-0.071457</td>\n",
       "    </tr>\n",
       "    <tr>\n",
       "      <th>4</th>\n",
       "      <td>-0.103358</td>\n",
       "      <td>0.195612</td>\n",
       "    </tr>\n",
       "    <tr>\n",
       "      <th>...</th>\n",
       "      <td>...</td>\n",
       "      <td>...</td>\n",
       "    </tr>\n",
       "    <tr>\n",
       "      <th>9995</th>\n",
       "      <td>0.132775</td>\n",
       "      <td>1.210169</td>\n",
       "    </tr>\n",
       "    <tr>\n",
       "      <th>9996</th>\n",
       "      <td>0.350294</td>\n",
       "      <td>-0.273884</td>\n",
       "    </tr>\n",
       "    <tr>\n",
       "      <th>9997</th>\n",
       "      <td>-1.600786</td>\n",
       "      <td>-2.057216</td>\n",
       "    </tr>\n",
       "    <tr>\n",
       "      <th>9998</th>\n",
       "      <td>-0.284072</td>\n",
       "      <td>-0.438156</td>\n",
       "    </tr>\n",
       "    <tr>\n",
       "      <th>9999</th>\n",
       "      <td>-0.455990</td>\n",
       "      <td>-0.328442</td>\n",
       "    </tr>\n",
       "  </tbody>\n",
       "</table>\n",
       "<p>10000 rows × 2 columns</p>\n",
       "</div>"
      ],
      "text/plain": [
       "            x1        x2\n",
       "0     0.077207  0.306002\n",
       "1    -0.335570 -0.316709\n",
       "2     0.135244  0.241697\n",
       "3     0.183566 -0.071457\n",
       "4    -0.103358  0.195612\n",
       "...        ...       ...\n",
       "9995  0.132775  1.210169\n",
       "9996  0.350294 -0.273884\n",
       "9997 -1.600786 -2.057216\n",
       "9998 -0.284072 -0.438156\n",
       "9999 -0.455990 -0.328442\n",
       "\n",
       "[10000 rows x 2 columns]"
      ]
     },
     "execution_count": 45,
     "metadata": {},
     "output_type": "execute_result"
    }
   ],
   "source": [
    "X[['x1', 'x2']]"
   ]
  },
  {
   "cell_type": "code",
   "execution_count": 43,
   "metadata": {},
   "outputs": [
    {
     "data": {
      "text/html": [
       "<div>\n",
       "<style scoped>\n",
       "    .dataframe tbody tr th:only-of-type {\n",
       "        vertical-align: middle;\n",
       "    }\n",
       "\n",
       "    .dataframe tbody tr th {\n",
       "        vertical-align: top;\n",
       "    }\n",
       "\n",
       "    .dataframe thead th {\n",
       "        text-align: right;\n",
       "    }\n",
       "</style>\n",
       "<table border=\"1\" class=\"dataframe\">\n",
       "  <thead>\n",
       "    <tr style=\"text-align: right;\">\n",
       "      <th></th>\n",
       "      <th>x1</th>\n",
       "      <th>x2</th>\n",
       "      <th>x3</th>\n",
       "    </tr>\n",
       "  </thead>\n",
       "  <tbody>\n",
       "    <tr>\n",
       "      <th>0</th>\n",
       "      <td>0.077207</td>\n",
       "      <td>0.306002</td>\n",
       "      <td>-0.330686</td>\n",
       "    </tr>\n",
       "    <tr>\n",
       "      <th>1</th>\n",
       "      <td>-0.335570</td>\n",
       "      <td>-0.316709</td>\n",
       "      <td>0.299893</td>\n",
       "    </tr>\n",
       "    <tr>\n",
       "      <th>2</th>\n",
       "      <td>0.135244</td>\n",
       "      <td>0.241697</td>\n",
       "      <td>0.019666</td>\n",
       "    </tr>\n",
       "    <tr>\n",
       "      <th>3</th>\n",
       "      <td>0.183566</td>\n",
       "      <td>-0.071457</td>\n",
       "      <td>0.280272</td>\n",
       "    </tr>\n",
       "    <tr>\n",
       "      <th>4</th>\n",
       "      <td>-0.103358</td>\n",
       "      <td>0.195612</td>\n",
       "      <td>0.083099</td>\n",
       "    </tr>\n",
       "    <tr>\n",
       "      <th>...</th>\n",
       "      <td>...</td>\n",
       "      <td>...</td>\n",
       "      <td>...</td>\n",
       "    </tr>\n",
       "    <tr>\n",
       "      <th>9995</th>\n",
       "      <td>0.132775</td>\n",
       "      <td>1.210169</td>\n",
       "      <td>-1.443845</td>\n",
       "    </tr>\n",
       "    <tr>\n",
       "      <th>9996</th>\n",
       "      <td>0.350294</td>\n",
       "      <td>-0.273884</td>\n",
       "      <td>0.216209</td>\n",
       "    </tr>\n",
       "    <tr>\n",
       "      <th>9997</th>\n",
       "      <td>-1.600786</td>\n",
       "      <td>-2.057216</td>\n",
       "      <td>0.780002</td>\n",
       "    </tr>\n",
       "    <tr>\n",
       "      <th>9998</th>\n",
       "      <td>-0.284072</td>\n",
       "      <td>-0.438156</td>\n",
       "      <td>-2.120191</td>\n",
       "    </tr>\n",
       "    <tr>\n",
       "      <th>9999</th>\n",
       "      <td>-0.455990</td>\n",
       "      <td>-0.328442</td>\n",
       "      <td>-0.869020</td>\n",
       "    </tr>\n",
       "  </tbody>\n",
       "</table>\n",
       "<p>10000 rows × 3 columns</p>\n",
       "</div>"
      ],
      "text/plain": [
       "            x1        x2        x3\n",
       "0     0.077207  0.306002 -0.330686\n",
       "1    -0.335570 -0.316709  0.299893\n",
       "2     0.135244  0.241697  0.019666\n",
       "3     0.183566 -0.071457  0.280272\n",
       "4    -0.103358  0.195612  0.083099\n",
       "...        ...       ...       ...\n",
       "9995  0.132775  1.210169 -1.443845\n",
       "9996  0.350294 -0.273884  0.216209\n",
       "9997 -1.600786 -2.057216  0.780002\n",
       "9998 -0.284072 -0.438156 -2.120191\n",
       "9999 -0.455990 -0.328442 -0.869020\n",
       "\n",
       "[10000 rows x 3 columns]"
      ]
     },
     "execution_count": 43,
     "metadata": {},
     "output_type": "execute_result"
    }
   ],
   "source": [
    "X"
   ]
  },
  {
   "cell_type": "code",
   "execution_count": 49,
   "metadata": {},
   "outputs": [],
   "source": [
    "k=X.iloc[0]"
   ]
  },
  {
   "cell_type": "code",
   "execution_count": 50,
   "metadata": {},
   "outputs": [
    {
     "data": {
      "text/plain": [
       "x1    0.077207\n",
       "x2    0.306002\n",
       "Name: 0, dtype: float64"
      ]
     },
     "execution_count": 50,
     "metadata": {},
     "output_type": "execute_result"
    }
   ],
   "source": [
    "k[['x1', 'x2']]"
   ]
  },
  {
   "cell_type": "code",
   "execution_count": 53,
   "metadata": {},
   "outputs": [
    {
     "data": {
      "text/plain": [
       "x1    0.077207\n",
       "x2    0.306002\n",
       "x3   -0.330686\n",
       "Name: 0, dtype: float64"
      ]
     },
     "execution_count": 53,
     "metadata": {},
     "output_type": "execute_result"
    }
   ],
   "source": [
    "k"
   ]
  },
  {
   "cell_type": "code",
   "execution_count": 54,
   "metadata": {},
   "outputs": [
    {
     "data": {
      "text/plain": [
       "0.24981988407867492"
      ]
     },
     "execution_count": 54,
     "metadata": {},
     "output_type": "execute_result"
    }
   ],
   "source": [
    "y[0]"
   ]
  },
  {
   "cell_type": "code",
   "execution_count": null,
   "metadata": {},
   "outputs": [],
   "source": []
  }
 ],
 "metadata": {
  "kernelspec": {
   "display_name": "ast5731",
   "language": "python",
   "name": "python3"
  },
  "language_info": {
   "codemirror_mode": {
    "name": "ipython",
    "version": 3
   },
   "file_extension": ".py",
   "mimetype": "text/x-python",
   "name": "python",
   "nbconvert_exporter": "python",
   "pygments_lexer": "ipython3",
   "version": "3.9.13"
  },
  "orig_nbformat": 4,
  "vscode": {
   "interpreter": {
    "hash": "fe7ecf42b79100dcdd735f51313520a5ed366689abf317bcdff77b1120b6cfb0"
   }
  }
 },
 "nbformat": 4,
 "nbformat_minor": 2
}
